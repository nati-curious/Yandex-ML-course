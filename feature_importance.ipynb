{
  "cells": [
    {
      "cell_type": "markdown",
      "metadata": {
        "id": "view-in-github",
        "colab_type": "text"
      },
      "source": [
        "<a href=\"https://colab.research.google.com/github/nati-curious/Yandex-ML-training/blob/main/feature_importance.ipynb\" target=\"_parent\"><img src=\"https://colab.research.google.com/assets/colab-badge.svg\" alt=\"Open In Colab\"/></a>"
      ]
    },
    {
      "cell_type": "markdown",
      "metadata": {
        "nbgrader": {
          "grade": false,
          "grade_id": "cell-512ba712fc0fc065",
          "locked": true,
          "schema_version": 2,
          "solution": false
        },
        "id": "vwNUKBnFPpzO"
      },
      "source": [
        "## Home assignment 08: Feature importances\n",
        "\n",
        "\n",
        "Please, fill the lines in the code below.\n",
        "Your goal is to estimate importance of the existing features using several methods.\n",
        "\n",
        "Your main goal is to estimate feature importances for Logistic Regression and Gradient Boosting using several methods.\n",
        "\n",
        "The model should be trained using only `train` part of the data\n"
      ]
    },
    {
      "cell_type": "markdown",
      "metadata": {
        "nbgrader": {
          "grade": false,
          "grade_id": "cell-b656a4266174b009",
          "locked": true,
          "schema_version": 2,
          "solution": false
        },
        "id": "r4LJVMLtPpzT"
      },
      "source": [
        "In this task you meet the [dataset](https://archive.ics.uci.edu/ml/datasets/Statlog+%28Vehicle+Silhouettes%29) describing different cars for multiclass ($k=4$) classification problem, but we use only binary subset for classes `bus` and `opel`. The data is available below."
      ]
    },
    {
      "cell_type": "code",
      "execution_count": 1,
      "metadata": {
        "colab": {
          "base_uri": "https://localhost:8080/"
        },
        "id": "jWAXG4CLPpzU",
        "outputId": "fd9c5ef5-42fb-4fe3-fd05-57ee56dc020c"
      },
      "outputs": [
        {
          "output_type": "stream",
          "name": "stdout",
          "text": [
            "--2024-01-06 13:16:36--  https://raw.githubusercontent.com/girafe-ai/ml-course/23f_basic/homeworks/lab01_ml_pipeline/car_data.csv\n",
            "Resolving raw.githubusercontent.com (raw.githubusercontent.com)... 185.199.111.133, 185.199.108.133, 185.199.110.133, ...\n",
            "Connecting to raw.githubusercontent.com (raw.githubusercontent.com)|185.199.111.133|:443... connected.\n",
            "HTTP request sent, awaiting response... 200 OK\n",
            "Length: 58374 (57K) [text/plain]\n",
            "Saving to: ‘car_data.csv’\n",
            "\n",
            "car_data.csv        100%[===================>]  57.01K  --.-KB/s    in 0.04s   \n",
            "\n",
            "2024-01-06 13:16:37 (1.44 MB/s) - ‘car_data.csv’ saved [58374/58374]\n",
            "\n"
          ]
        }
      ],
      "source": [
        "# If on Colab, uncomment the following lines\n",
        "! wget https://raw.githubusercontent.com/girafe-ai/ml-course/23f_basic/homeworks/lab01_ml_pipeline/car_data.csv"
      ]
    },
    {
      "cell_type": "code",
      "source": [
        "!pip install shap"
      ],
      "metadata": {
        "colab": {
          "base_uri": "https://localhost:8080/"
        },
        "id": "YV0UxVcpQHAZ",
        "outputId": "96e1184a-66bd-49f6-8b78-915660f99add"
      },
      "execution_count": 2,
      "outputs": [
        {
          "output_type": "stream",
          "name": "stdout",
          "text": [
            "Collecting shap\n",
            "  Downloading shap-0.44.0-cp310-cp310-manylinux_2_12_x86_64.manylinux2010_x86_64.manylinux_2_17_x86_64.manylinux2014_x86_64.whl (533 kB)\n",
            "\u001b[2K     \u001b[90m━━━━━━━━━━━━━━━━━━━━━━━━━━━━━━━━━━━━━━━━\u001b[0m \u001b[32m533.5/533.5 kB\u001b[0m \u001b[31m4.2 MB/s\u001b[0m eta \u001b[36m0:00:00\u001b[0m\n",
            "\u001b[?25hRequirement already satisfied: numpy in /usr/local/lib/python3.10/dist-packages (from shap) (1.23.5)\n",
            "Requirement already satisfied: scipy in /usr/local/lib/python3.10/dist-packages (from shap) (1.11.4)\n",
            "Requirement already satisfied: scikit-learn in /usr/local/lib/python3.10/dist-packages (from shap) (1.2.2)\n",
            "Requirement already satisfied: pandas in /usr/local/lib/python3.10/dist-packages (from shap) (1.5.3)\n",
            "Requirement already satisfied: tqdm>=4.27.0 in /usr/local/lib/python3.10/dist-packages (from shap) (4.66.1)\n",
            "Requirement already satisfied: packaging>20.9 in /usr/local/lib/python3.10/dist-packages (from shap) (23.2)\n",
            "Collecting slicer==0.0.7 (from shap)\n",
            "  Downloading slicer-0.0.7-py3-none-any.whl (14 kB)\n",
            "Requirement already satisfied: numba in /usr/local/lib/python3.10/dist-packages (from shap) (0.58.1)\n",
            "Requirement already satisfied: cloudpickle in /usr/local/lib/python3.10/dist-packages (from shap) (2.2.1)\n",
            "Requirement already satisfied: llvmlite<0.42,>=0.41.0dev0 in /usr/local/lib/python3.10/dist-packages (from numba->shap) (0.41.1)\n",
            "Requirement already satisfied: python-dateutil>=2.8.1 in /usr/local/lib/python3.10/dist-packages (from pandas->shap) (2.8.2)\n",
            "Requirement already satisfied: pytz>=2020.1 in /usr/local/lib/python3.10/dist-packages (from pandas->shap) (2023.3.post1)\n",
            "Requirement already satisfied: joblib>=1.1.1 in /usr/local/lib/python3.10/dist-packages (from scikit-learn->shap) (1.3.2)\n",
            "Requirement already satisfied: threadpoolctl>=2.0.0 in /usr/local/lib/python3.10/dist-packages (from scikit-learn->shap) (3.2.0)\n",
            "Requirement already satisfied: six>=1.5 in /usr/local/lib/python3.10/dist-packages (from python-dateutil>=2.8.1->pandas->shap) (1.16.0)\n",
            "Installing collected packages: slicer, shap\n",
            "Successfully installed shap-0.44.0 slicer-0.0.7\n"
          ]
        }
      ]
    },
    {
      "cell_type": "code",
      "execution_count": 3,
      "metadata": {
        "nbgrader": {
          "grade": false,
          "grade_id": "cell-eebac6bfdf73d0bc",
          "locked": true,
          "schema_version": 2,
          "solution": false
        },
        "id": "s0PBsD4oPpzW"
      },
      "outputs": [],
      "source": [
        "import pandas as pd\n",
        "import numpy as np\n",
        "import shap\n",
        "\n",
        "from sklearn.model_selection import train_test_split\n",
        "from sklearn.preprocessing import StandardScaler\n",
        "from sklearn.linear_model import LogisticRegression\n",
        "from sklearn.ensemble import GradientBoostingClassifier\n",
        "from sklearn.metrics import classification_report\n",
        "\n",
        "from matplotlib import pyplot as plt"
      ]
    },
    {
      "cell_type": "code",
      "source": [
        "dataset = pd.read_csv('car_data.csv', delimiter=',', header=None).values\n",
        "data = dataset[:, :-1].astype(int)\n",
        "target = dataset[:, -1]\n",
        "binary_subset = np.array([x in ['bus', 'opel'] for x in target])\n",
        "data, target = data[binary_subset], target[binary_subset]\n",
        "\n",
        "print(data.shape, target.shape)"
      ],
      "metadata": {
        "colab": {
          "base_uri": "https://localhost:8080/"
        },
        "id": "mF7Yj0cCUR0l",
        "outputId": "4f3441d1-ae94-48ff-bb08-08032dbb8573"
      },
      "execution_count": 4,
      "outputs": [
        {
          "output_type": "stream",
          "name": "stdout",
          "text": [
            "(430, 19) (430,)\n"
          ]
        }
      ]
    },
    {
      "cell_type": "code",
      "execution_count": 5,
      "metadata": {
        "id": "mwDsKKe-PpzX"
      },
      "outputs": [],
      "source": [
        "# do not change the code in the block below\n",
        "# __________start of block__________\n",
        "submission_dict = {}\n",
        "# __________end of block__________"
      ]
    },
    {
      "cell_type": "code",
      "execution_count": 7,
      "metadata": {
        "colab": {
          "base_uri": "https://localhost:8080/"
        },
        "id": "ApaFyAB-PpzX",
        "outputId": "bf79833a-e668-4c62-91f5-04f62bac5952"
      },
      "outputs": [
        {
          "output_type": "stream",
          "name": "stdout",
          "text": [
            "(350, 18) (350,) (80, 18) (80,)\n"
          ]
        }
      ],
      "source": [
        "X_train, y_train = data[:350, 1:], target[:350]\n",
        "X_val, y_val = data[350:, 1:], target[350:]\n",
        "print(X_train.shape, y_train.shape, X_val.shape, y_val.shape)"
      ]
    },
    {
      "cell_type": "markdown",
      "metadata": {
        "nbgrader": {
          "grade": false,
          "grade_id": "cell-be844269be69c387",
          "locked": true,
          "schema_version": 2,
          "solution": false
        },
        "id": "s7JY76YyPpzX"
      },
      "source": [
        "#### Estimating features importances using logistic regression coefficients.\n",
        "Train basic logistic regression and save its coefficients (weights)."
      ]
    },
    {
      "cell_type": "code",
      "execution_count": 10,
      "metadata": {
        "colab": {
          "base_uri": "https://localhost:8080/"
        },
        "id": "ysUPHY0OPpzY",
        "outputId": "df31d1cb-a3bc-4c36-e54e-43ad61935817"
      },
      "outputs": [
        {
          "output_type": "execute_result",
          "data": {
            "text/plain": [
              "array(['bus', 'bus', 'bus', 'bus', 'bus', 'bus', 'opel', 'opel', 'bus',\n",
              "       'bus', 'bus', 'opel', 'opel', 'opel', 'opel', 'opel', 'bus', 'bus',\n",
              "       'opel', 'bus', 'opel', 'opel', 'opel', 'bus', 'opel', 'opel',\n",
              "       'opel', 'bus', 'bus', 'opel', 'bus', 'bus', 'bus', 'opel', 'bus',\n",
              "       'opel', 'bus', 'bus', 'opel', 'opel', 'bus', 'bus', 'opel', 'bus',\n",
              "       'opel', 'opel', 'bus', 'bus', 'bus', 'opel', 'bus', 'bus', 'opel',\n",
              "       'bus', 'bus', 'opel', 'opel', 'bus', 'opel', 'opel', 'bus', 'opel',\n",
              "       'bus', 'bus', 'opel', 'opel', 'bus', 'bus', 'bus', 'opel', 'opel',\n",
              "       'opel', 'opel', 'opel', 'opel', 'opel', 'bus', 'bus', 'bus',\n",
              "       'opel'], dtype=object)"
            ]
          },
          "metadata": {},
          "execution_count": 10
        }
      ],
      "source": [
        "lr_basic = LogisticRegression(random_state=42, solver='liblinear', max_iter=1000).fit(X_train, y_train)\n",
        "lr_basic.predict(X_val)"
      ]
    },
    {
      "cell_type": "markdown",
      "metadata": {
        "id": "cvYjEx7EPpzY"
      },
      "source": [
        "Check the classification results on the original train data:"
      ]
    },
    {
      "cell_type": "code",
      "execution_count": 12,
      "metadata": {
        "colab": {
          "base_uri": "https://localhost:8080/"
        },
        "id": "r32bHBNLPpzZ",
        "outputId": "373467c6-f13c-4c64-dff7-020f7d88c160"
      },
      "outputs": [
        {
          "output_type": "stream",
          "name": "stdout",
          "text": [
            "              precision    recall  f1-score   support\n",
            "\n",
            "         bus       0.99      0.99      0.99       175\n",
            "        opel       0.99      0.99      0.99       175\n",
            "\n",
            "    accuracy                           0.99       350\n",
            "   macro avg       0.99      0.99      0.99       350\n",
            "weighted avg       0.99      0.99      0.99       350\n",
            "\n"
          ]
        }
      ],
      "source": [
        "print(classification_report(y_train, lr_basic0.predict(X_train)))"
      ]
    },
    {
      "cell_type": "markdown",
      "metadata": {
        "id": "m2tqMzoCPpzZ"
      },
      "source": [
        "And on validation:"
      ]
    },
    {
      "cell_type": "code",
      "execution_count": 13,
      "metadata": {
        "colab": {
          "base_uri": "https://localhost:8080/"
        },
        "id": "jpowFLOLPpzZ",
        "outputId": "dab99d63-f447-4364-e99f-943712bc92df"
      },
      "outputs": [
        {
          "output_type": "stream",
          "name": "stdout",
          "text": [
            "              precision    recall  f1-score   support\n",
            "\n",
            "         bus       1.00      0.95      0.98        43\n",
            "        opel       0.95      1.00      0.97        37\n",
            "\n",
            "    accuracy                           0.97        80\n",
            "   macro avg       0.97      0.98      0.97        80\n",
            "weighted avg       0.98      0.97      0.98        80\n",
            "\n"
          ]
        }
      ],
      "source": [
        "print(classification_report(y_val, lr_basic0.predict(X_val)))"
      ]
    },
    {
      "cell_type": "markdown",
      "metadata": {
        "id": "s3q_wog9PpzZ"
      },
      "source": [
        "Find the Logistic Regression weights and save them to the variable `lr_basic_coef`:"
      ]
    },
    {
      "cell_type": "code",
      "source": [
        "lr_basic_coef = lr_basic.coef_\n",
        "lr_basic_coef"
      ],
      "metadata": {
        "colab": {
          "base_uri": "https://localhost:8080/"
        },
        "id": "NYt4dY6UTkiF",
        "outputId": "c14b685b-5cf9-479b-d39b-c21deef69e54"
      },
      "execution_count": 11,
      "outputs": [
        {
          "output_type": "execute_result",
          "data": {
            "text/plain": [
              "array([[-8.34731850e-02,  3.32128516e-01,  2.54821760e-01,\n",
              "         7.36569242e-01, -2.21721658e+00,  4.85824418e-02,\n",
              "         4.72753405e-01,  1.54485519e+00, -2.12906912e-03,\n",
              "        -5.93055933e-02, -2.95874916e-01, -6.52029393e-02,\n",
              "        -7.86035108e-02,  2.19286001e-01,  2.37766283e-01,\n",
              "        -1.27482645e-01, -1.33672086e+00,  9.60484248e-01]])"
            ]
          },
          "metadata": {},
          "execution_count": 11
        }
      ]
    },
    {
      "cell_type": "markdown",
      "metadata": {
        "id": "zgmlDQjlPpza"
      },
      "source": [
        "It should have the same number of coefficients as number of features."
      ]
    },
    {
      "cell_type": "code",
      "execution_count": 18,
      "metadata": {
        "id": "GBxil8fxPpza"
      },
      "outputs": [],
      "source": [
        "assert lr_basic_coef.shape[-1] == X_train.shape[1]"
      ]
    },
    {
      "cell_type": "code",
      "execution_count": 19,
      "metadata": {
        "id": "DoyyMArePpza"
      },
      "outputs": [],
      "source": [
        "# do not change the code in the block below\n",
        "# __________start of block__________\n",
        "submission_dict['lr_basic_coef'] = lr_basic_coef\n",
        "# __________end of block__________"
      ]
    },
    {
      "cell_type": "markdown",
      "metadata": {
        "id": "mf0iEg5xPpza"
      },
      "source": [
        "#### Estimating features importances using logistic regression coefficients.\n",
        "Train basic logistic regression on scaled data and save its coefficients (weights) as well"
      ]
    },
    {
      "cell_type": "markdown",
      "metadata": {
        "id": "8O4gZUPhPpzb"
      },
      "source": [
        "Use `StandardScaler` on your data."
      ]
    },
    {
      "cell_type": "code",
      "execution_count": 20,
      "metadata": {
        "id": "qDv8S2q1Ppzb"
      },
      "outputs": [],
      "source": [
        "scaler = StandardScaler()\n",
        "X_train_scaled = scaler.fit_transform(X_train)\n",
        "X_val_scaled = scaler.transform(X_val)"
      ]
    },
    {
      "cell_type": "code",
      "execution_count": 21,
      "metadata": {
        "colab": {
          "base_uri": "https://localhost:8080/"
        },
        "id": "Ek9IFfdFPpzb",
        "outputId": "554376da-b6c0-4511-c4a5-8fcc11d95ae6"
      },
      "outputs": [
        {
          "output_type": "execute_result",
          "data": {
            "text/plain": [
              "array(['bus', 'bus', 'bus', 'bus', 'bus', 'bus', 'opel', 'bus', 'bus',\n",
              "       'bus', 'bus', 'opel', 'opel', 'opel', 'opel', 'opel', 'bus', 'bus',\n",
              "       'opel', 'bus', 'opel', 'opel', 'opel', 'bus', 'opel', 'opel',\n",
              "       'opel', 'bus', 'bus', 'opel', 'bus', 'bus', 'bus', 'opel', 'bus',\n",
              "       'bus', 'bus', 'bus', 'opel', 'opel', 'bus', 'bus', 'opel', 'bus',\n",
              "       'opel', 'bus', 'bus', 'bus', 'bus', 'opel', 'bus', 'bus', 'opel',\n",
              "       'bus', 'opel', 'opel', 'opel', 'bus', 'opel', 'opel', 'bus',\n",
              "       'opel', 'bus', 'bus', 'opel', 'opel', 'bus', 'bus', 'bus', 'opel',\n",
              "       'opel', 'opel', 'opel', 'opel', 'opel', 'opel', 'bus', 'bus',\n",
              "       'bus', 'opel'], dtype=object)"
            ]
          },
          "metadata": {},
          "execution_count": 21
        }
      ],
      "source": [
        "lr_scaled = LogisticRegression().fit(X_train_scaled, y_train)\n",
        "lr_scaled.predict(X_val_scaled)"
      ]
    },
    {
      "cell_type": "markdown",
      "metadata": {
        "id": "1NIrh-9FPpzb"
      },
      "source": [
        "Check the classification results on the scaled train data:"
      ]
    },
    {
      "cell_type": "code",
      "execution_count": 22,
      "metadata": {
        "colab": {
          "base_uri": "https://localhost:8080/"
        },
        "id": "jHBQsQCGPpzb",
        "outputId": "a24de83e-f5cb-4537-8a69-43e3202f1cc1"
      },
      "outputs": [
        {
          "output_type": "stream",
          "name": "stdout",
          "text": [
            "              precision    recall  f1-score   support\n",
            "\n",
            "         bus       0.96      0.97      0.97       175\n",
            "        opel       0.97      0.96      0.97       175\n",
            "\n",
            "    accuracy                           0.97       350\n",
            "   macro avg       0.97      0.97      0.97       350\n",
            "weighted avg       0.97      0.97      0.97       350\n",
            "\n"
          ]
        }
      ],
      "source": [
        "print(classification_report(y_train, lr_scaled.predict(X_train_scaled)))"
      ]
    },
    {
      "cell_type": "markdown",
      "metadata": {
        "id": "e16Lv7haPpzb"
      },
      "source": [
        "And on validation:"
      ]
    },
    {
      "cell_type": "code",
      "execution_count": 23,
      "metadata": {
        "colab": {
          "base_uri": "https://localhost:8080/"
        },
        "id": "scDLlvk8Ppzb",
        "outputId": "1113e8a9-e745-4954-829f-3a84d10ef349"
      },
      "outputs": [
        {
          "output_type": "stream",
          "name": "stdout",
          "text": [
            "              precision    recall  f1-score   support\n",
            "\n",
            "         bus       0.98      0.98      0.98        43\n",
            "        opel       0.97      0.97      0.97        37\n",
            "\n",
            "    accuracy                           0.97        80\n",
            "   macro avg       0.97      0.97      0.97        80\n",
            "weighted avg       0.97      0.97      0.97        80\n",
            "\n"
          ]
        }
      ],
      "source": [
        "print(classification_report(y_val, lr_scaled.predict(X_val_scaled)))"
      ]
    },
    {
      "cell_type": "markdown",
      "metadata": {
        "id": "7NfkuWN5Ppzb"
      },
      "source": [
        "Save model coefficients to the variable `lr_scaled_coef`:"
      ]
    },
    {
      "cell_type": "code",
      "execution_count": 24,
      "metadata": {
        "colab": {
          "base_uri": "https://localhost:8080/"
        },
        "id": "RzyL42boPpzc",
        "outputId": "ad1a65ec-19df-44c3-eefb-82ab2eb6d085"
      },
      "outputs": [
        {
          "output_type": "execute_result",
          "data": {
            "text/plain": [
              "array([[-0.0308141 ,  0.04038916,  1.76464104,  3.35720044, -2.88170181,\n",
              "         0.5835645 ,  0.07879649,  1.52222547,  0.34803312, -0.18384689,\n",
              "        -1.41802344, -0.13678338, -0.87872259, -1.42396471,  0.53480476,\n",
              "        -0.01473084, -2.93765859,  1.65556713]])"
            ]
          },
          "metadata": {},
          "execution_count": 24
        }
      ],
      "source": [
        "lr_scaled_coef = lr_scaled.coef_\n",
        "lr_scaled_coef"
      ]
    },
    {
      "cell_type": "markdown",
      "metadata": {
        "id": "QBmmnrCTPpzc"
      },
      "source": [
        "It should also have the same number of coefficients as number of features."
      ]
    },
    {
      "cell_type": "code",
      "execution_count": 25,
      "metadata": {
        "id": "H60VlFvSPpzc"
      },
      "outputs": [],
      "source": [
        "assert lr_scaled_coef.shape[-1] == X_train_scaled.shape[1]"
      ]
    },
    {
      "cell_type": "markdown",
      "metadata": {
        "id": "UVR3Opn3Ppzc"
      },
      "source": [
        "Save index of the most important feature for lr_scaled to the variable `lr_scaled_most_important_index`:"
      ]
    },
    {
      "cell_type": "code",
      "execution_count": 26,
      "metadata": {
        "colab": {
          "base_uri": "https://localhost:8080/"
        },
        "id": "4QYyIe_WPpzc",
        "outputId": "42cc3893-e84f-41d2-e0a5-912642867309"
      },
      "outputs": [
        {
          "output_type": "execute_result",
          "data": {
            "text/plain": [
              "3"
            ]
          },
          "metadata": {},
          "execution_count": 26
        }
      ],
      "source": [
        "lr_scaled_most_important_index = np.array(list(map(np.int_, np.std(X_train_scaled, 0) * lr_scaled.coef_)))\n",
        "lr_scaled_most_important_index = lr_scaled_most_important_index[-1]\n",
        "lr_scaled_most_important_index = np.argmax(lr_scaled_most_important_index)\n",
        "lr_scaled_most_important_index"
      ]
    },
    {
      "cell_type": "code",
      "source": [
        "np.argmax(abs(lr_scaled_coef))"
      ],
      "metadata": {
        "colab": {
          "base_uri": "https://localhost:8080/"
        },
        "id": "XJPi5WPIVarE",
        "outputId": "4ec796ef-94ad-43e4-84be-4a6639699a3f"
      },
      "execution_count": 27,
      "outputs": [
        {
          "output_type": "execute_result",
          "data": {
            "text/plain": [
              "3"
            ]
          },
          "metadata": {},
          "execution_count": 27
        }
      ]
    },
    {
      "cell_type": "code",
      "execution_count": 28,
      "metadata": {
        "id": "p6CHwQ8mPpzc"
      },
      "outputs": [],
      "source": [
        "# do not change the code in the block below\n",
        "# __________start of block__________\n",
        "assert isinstance(int(lr_scaled_most_important_index), int)\n",
        "submission_dict['lr_scaled_coef'] = lr_scaled_coef\n",
        "submission_dict['lr_scaled_most_important_index'] = lr_scaled_most_important_index\n",
        "# __________end of block__________"
      ]
    },
    {
      "cell_type": "markdown",
      "metadata": {
        "id": "hYIlm-RvPpzc"
      },
      "source": [
        "#### Estimating features importances for logistic regression using shap\n",
        "Use [`shap` library](https://shap.readthedocs.io/en/latest/index.html) to check the importance of the features. Use [`Linear` explainer](https://shap.readthedocs.io/en/latest/generated/shap.explainers.Linear.html) and the scaled data."
      ]
    },
    {
      "cell_type": "code",
      "execution_count": 29,
      "metadata": {
        "id": "hhmYEIhaPpzd"
      },
      "outputs": [],
      "source": [
        "explainer = shap.LinearExplainer(lr_scaled, X_train_scaled)\n",
        "shap_values_scaled = explainer(X_train_scaled)"
      ]
    },
    {
      "cell_type": "markdown",
      "metadata": {
        "id": "8kt--M7RPpzd"
      },
      "source": [
        "Summary plot:"
      ]
    },
    {
      "cell_type": "code",
      "execution_count": 30,
      "metadata": {
        "colab": {
          "base_uri": "https://localhost:8080/",
          "height": 877
        },
        "id": "eiWIbx3wPpzd",
        "outputId": "a9372782-a6b4-42e6-8207-9e50592038e0"
      },
      "outputs": [
        {
          "output_type": "display_data",
          "data": {
            "text/plain": [
              "<Figure size 800x870 with 2 Axes>"
            ],
            "image/png": "[encoded data removed]"
          },
          "metadata": {}
        }
      ],
      "source": [
        "shap.summary_plot(shap_values_scaled, X_train_scaled)"
      ]
    },
    {
      "cell_type": "markdown",
      "metadata": {
        "id": "XtDS7z90Ppzd"
      },
      "source": [
        "Finally, write a function which transforms shap values to Logistic Regression coefficients. Their relations are described in the [docs](https://shap.readthedocs.io/en/latest/generated/shap.explainers.Linear.html).\n",
        "\n",
        "*Note: This task main goal is your deeper understanding of the shap importance estimation process.*"
      ]
    },
    {
      "cell_type": "code",
      "source": [
        "def get_coef_from_shap_values(shap_values, X_train_scaled):\n",
        "    return (shap_values.values * (X_train_scaled - X_train_scaled.mean(0))).mean(0)"
      ],
      "metadata": {
        "id": "4AxvWoKcNdrm"
      },
      "execution_count": 31,
      "outputs": []
    },
    {
      "cell_type": "code",
      "source": [
        "(X_train_scaled - X_train_scaled.mean(0)).mean(0)"
      ],
      "metadata": {
        "id": "L5BY_8fL4K5G",
        "outputId": "3e1d5f82-eb88-4148-91bc-3a35ad3ad525",
        "colab": {
          "base_uri": "https://localhost:8080/"
        }
      },
      "execution_count": 32,
      "outputs": [
        {
          "output_type": "execute_result",
          "data": {
            "text/plain": [
              "array([-1.01506105e-17,  2.28388736e-17, -1.58603289e-18,  5.07530526e-18,\n",
              "       -5.45595315e-17, -1.15780401e-17, -8.24737104e-18,  8.88178420e-18,\n",
              "       -5.29734986e-17, -5.29734986e-17,  3.61615499e-17, -3.80647894e-18,\n",
              "       -2.64074477e-17, -9.27829242e-18,  3.68752647e-17, -2.22044605e-17,\n",
              "       -2.31560802e-17,  1.25494853e-17])"
            ]
          },
          "metadata": {},
          "execution_count": 32
        }
      ]
    },
    {
      "cell_type": "code",
      "source": [
        "shap_values_scaled.shape"
      ],
      "metadata": {
        "colab": {
          "base_uri": "https://localhost:8080/"
        },
        "id": "mXO12ggi3g6j",
        "outputId": "84cb45ce-6dbd-44e8-8528-75d1644111f9"
      },
      "execution_count": 33,
      "outputs": [
        {
          "output_type": "execute_result",
          "data": {
            "text/plain": [
              "(350, 18)"
            ]
          },
          "metadata": {},
          "execution_count": 33
        }
      ]
    },
    {
      "cell_type": "code",
      "source": [
        "X_train_scaled.shape"
      ],
      "metadata": {
        "colab": {
          "base_uri": "https://localhost:8080/"
        },
        "id": "GmsPERDP3wHM",
        "outputId": "fc0eac71-ceb2-420f-b7fd-a9709892e2fd"
      },
      "execution_count": 34,
      "outputs": [
        {
          "output_type": "execute_result",
          "data": {
            "text/plain": [
              "(350, 18)"
            ]
          },
          "metadata": {},
          "execution_count": 34
        }
      ]
    },
    {
      "cell_type": "code",
      "source": [
        "X_train_scaled.mean(0).shape"
      ],
      "metadata": {
        "colab": {
          "base_uri": "https://localhost:8080/"
        },
        "id": "HZuZXvEl32FK",
        "outputId": "b070104f-d802-4aec-b57c-58244e6a2b39"
      },
      "execution_count": 35,
      "outputs": [
        {
          "output_type": "execute_result",
          "data": {
            "text/plain": [
              "(18,)"
            ]
          },
          "metadata": {},
          "execution_count": 35
        }
      ]
    },
    {
      "cell_type": "markdown",
      "source": [
        "Keep in mind that in sklearn's StandardScaler (`z = (x - u) / s`) u is zero/`None` if `with_mean=False`, and s is one/`None` if `with_std=False` (they are not default parameters; default parameters are `with_mean=True`, `with_std=True`)."
      ],
      "metadata": {
        "id": "U1vZoC_T45Yo"
      }
    },
    {
      "cell_type": "code",
      "source": [
        "coef_from_shap = get_coef_from_shap_values(shap_values_scaled, X_train_scaled)"
      ],
      "metadata": {
        "id": "SMWN67UMQUIs"
      },
      "execution_count": 36,
      "outputs": []
    },
    {
      "cell_type": "markdown",
      "metadata": {
        "id": "bLD5BbcOPpzi"
      },
      "source": [
        "If everything is correct, the next assert should pass."
      ]
    },
    {
      "cell_type": "code",
      "execution_count": 37,
      "metadata": {
        "id": "jIZ7_CYzPpzi"
      },
      "outputs": [],
      "source": [
        "assert np.allclose(coef_from_shap, lr_scaled_coef)"
      ]
    },
    {
      "cell_type": "code",
      "source": [
        "coef_from_shap, coef_from_shap.shape"
      ],
      "metadata": {
        "colab": {
          "base_uri": "https://localhost:8080/"
        },
        "id": "Ha9qoQDThHQq",
        "outputId": "7e62287b-09ea-4ef0-f46f-46cf8fb17d8f"
      },
      "execution_count": 38,
      "outputs": [
        {
          "output_type": "execute_result",
          "data": {
            "text/plain": [
              "(array([-0.0308141 ,  0.04038916,  1.76464104,  3.35720044, -2.88170181,\n",
              "         0.5835645 ,  0.07879649,  1.52222547,  0.34803312, -0.18384689,\n",
              "        -1.41802344, -0.13678338, -0.87872259, -1.42396471,  0.53480476,\n",
              "        -0.01473084, -2.93765859,  1.65556713]),\n",
              " (18,))"
            ]
          },
          "metadata": {},
          "execution_count": 38
        }
      ]
    },
    {
      "cell_type": "code",
      "source": [
        "lr_scaled_coef, lr_scaled_coef.shape"
      ],
      "metadata": {
        "colab": {
          "base_uri": "https://localhost:8080/"
        },
        "id": "ZoctPg49hJjV",
        "outputId": "e653d372-d1cd-4948-8ec4-33168daea4c0"
      },
      "execution_count": 39,
      "outputs": [
        {
          "output_type": "execute_result",
          "data": {
            "text/plain": [
              "(array([[-0.0308141 ,  0.04038916,  1.76464104,  3.35720044, -2.88170181,\n",
              "          0.5835645 ,  0.07879649,  1.52222547,  0.34803312, -0.18384689,\n",
              "         -1.41802344, -0.13678338, -0.87872259, -1.42396471,  0.53480476,\n",
              "         -0.01473084, -2.93765859,  1.65556713]]),\n",
              " (1, 18))"
            ]
          },
          "metadata": {},
          "execution_count": 39
        }
      ]
    },
    {
      "cell_type": "markdown",
      "metadata": {
        "id": "JMFEkEJDPpzi"
      },
      "source": [
        "#### Training the GradientBoosting"
      ]
    },
    {
      "cell_type": "code",
      "execution_count": 40,
      "metadata": {
        "id": "-nZ-H50UPpzi",
        "colab": {
          "base_uri": "https://localhost:8080/"
        },
        "outputId": "06810743-73f3-48bd-be29-8b4a04cf469f"
      },
      "outputs": [
        {
          "output_type": "execute_result",
          "data": {
            "text/plain": [
              "array(['bus', 'bus', 'opel', 'bus', 'bus', 'bus', 'opel', 'bus', 'bus',\n",
              "       'bus', 'bus', 'bus', 'opel', 'opel', 'opel', 'opel', 'bus', 'bus',\n",
              "       'opel', 'bus', 'opel', 'opel', 'opel', 'bus', 'opel', 'opel',\n",
              "       'opel', 'bus', 'bus', 'opel', 'bus', 'bus', 'bus', 'bus', 'bus',\n",
              "       'bus', 'bus', 'bus', 'opel', 'opel', 'bus', 'bus', 'opel', 'bus',\n",
              "       'opel', 'opel', 'bus', 'bus', 'bus', 'opel', 'bus', 'bus', 'opel',\n",
              "       'bus', 'bus', 'opel', 'opel', 'bus', 'opel', 'bus', 'bus', 'opel',\n",
              "       'bus', 'bus', 'opel', 'opel', 'bus', 'bus', 'bus', 'opel', 'opel',\n",
              "       'opel', 'opel', 'opel', 'opel', 'opel', 'bus', 'bus', 'bus',\n",
              "       'opel'], dtype=object)"
            ]
          },
          "metadata": {},
          "execution_count": 40
        }
      ],
      "source": [
        "gb_basic = GradientBoostingClassifier(n_estimators=10, random_state=42)\n",
        "gb_basic.fit(X_train, y_train)\n",
        "gb_basic.predict(X_val)"
      ]
    },
    {
      "cell_type": "code",
      "source": [
        "print(classification_report(y_train, gb_basic.predict(X_train)))"
      ],
      "metadata": {
        "colab": {
          "base_uri": "https://localhost:8080/"
        },
        "id": "9klwJHqzJWnA",
        "outputId": "6c76cd28-6575-4775-b76e-ada430207752"
      },
      "execution_count": 41,
      "outputs": [
        {
          "output_type": "stream",
          "name": "stdout",
          "text": [
            "              precision    recall  f1-score   support\n",
            "\n",
            "         bus       0.95      0.99      0.97       175\n",
            "        opel       0.99      0.95      0.97       175\n",
            "\n",
            "    accuracy                           0.97       350\n",
            "   macro avg       0.97      0.97      0.97       350\n",
            "weighted avg       0.97      0.97      0.97       350\n",
            "\n"
          ]
        }
      ]
    },
    {
      "cell_type": "code",
      "execution_count": 45,
      "metadata": {
        "id": "N6VSNyQQPpzi",
        "colab": {
          "base_uri": "https://localhost:8080/"
        },
        "outputId": "5aa84fef-f8de-4bf0-f8e1-6ae3ed68f0a5"
      },
      "outputs": [
        {
          "output_type": "execute_result",
          "data": {
            "text/plain": [
              "array([0.        , 0.02340601, 0.17233539, 0.        , 0.0988627 ,\n",
              "       0.40416886, 0.0071513 , 0.005656  , 0.        , 0.09282158,\n",
              "       0.06169492, 0.00589878, 0.0049855 , 0.04798893, 0.06779904,\n",
              "       0.007231  , 0.        , 0.        ])"
            ]
          },
          "metadata": {},
          "execution_count": 45
        }
      ],
      "source": [
        "gb_basic_feature_importances = gb_basic.feature_importances_\n",
        "gb_basic_feature_importances"
      ]
    },
    {
      "cell_type": "code",
      "source": [
        "np.around(gb_basic_feature_importances, 2)"
      ],
      "metadata": {
        "colab": {
          "base_uri": "https://localhost:8080/"
        },
        "id": "URhCkBLgJmZn",
        "outputId": "3a3e699a-ea47-4714-aa1b-3fdc046f493c"
      },
      "execution_count": 43,
      "outputs": [
        {
          "output_type": "execute_result",
          "data": {
            "text/plain": [
              "array([0.  , 0.02, 0.17, 0.  , 0.1 , 0.4 , 0.01, 0.01, 0.  , 0.09, 0.06,\n",
              "       0.01, 0.  , 0.05, 0.07, 0.01, 0.  , 0.  ])"
            ]
          },
          "metadata": {},
          "execution_count": 43
        }
      ]
    },
    {
      "cell_type": "code",
      "source": [
        "np.argmax(abs(gb_basic_feature_importances))"
      ],
      "metadata": {
        "colab": {
          "base_uri": "https://localhost:8080/"
        },
        "id": "vaq5vHHzE-D7",
        "outputId": "1b4b7b03-9515-47ed-81c4-cfca737f0c0a"
      },
      "execution_count": 46,
      "outputs": [
        {
          "output_type": "execute_result",
          "data": {
            "text/plain": [
              "5"
            ]
          },
          "metadata": {},
          "execution_count": 46
        }
      ]
    },
    {
      "cell_type": "code",
      "execution_count": 47,
      "metadata": {
        "id": "IFD3n5ZBPpzi",
        "colab": {
          "base_uri": "https://localhost:8080/"
        },
        "outputId": "aa0d9ba6-8f6e-4c78-ec2f-3d3f0a13f4e4"
      },
      "outputs": [
        {
          "output_type": "execute_result",
          "data": {
            "text/plain": [
              "array(['bus', 'bus', 'opel', 'bus', 'bus', 'bus', 'opel', 'bus', 'bus',\n",
              "       'bus', 'bus', 'bus', 'opel', 'opel', 'opel', 'opel', 'bus', 'bus',\n",
              "       'opel', 'bus', 'opel', 'opel', 'opel', 'bus', 'opel', 'opel',\n",
              "       'opel', 'bus', 'bus', 'opel', 'bus', 'bus', 'bus', 'bus', 'bus',\n",
              "       'bus', 'bus', 'bus', 'opel', 'opel', 'bus', 'bus', 'opel', 'bus',\n",
              "       'opel', 'opel', 'bus', 'bus', 'bus', 'opel', 'bus', 'bus', 'opel',\n",
              "       'bus', 'bus', 'opel', 'opel', 'bus', 'opel', 'bus', 'bus', 'opel',\n",
              "       'bus', 'bus', 'opel', 'opel', 'bus', 'bus', 'bus', 'opel', 'opel',\n",
              "       'opel', 'opel', 'opel', 'opel', 'opel', 'bus', 'bus', 'bus',\n",
              "       'opel'], dtype=object)"
            ]
          },
          "metadata": {},
          "execution_count": 47
        }
      ],
      "source": [
        "gb_scaled = GradientBoostingClassifier(n_estimators=10, random_state=42)\n",
        "gb_scaled.fit(X_train_scaled, y_train)\n",
        "gb_scaled.predict(X_val_scaled)"
      ]
    },
    {
      "cell_type": "code",
      "execution_count": 48,
      "metadata": {
        "id": "wHsXa20YPpzj",
        "colab": {
          "base_uri": "https://localhost:8080/"
        },
        "outputId": "bb2fc9c6-15a8-4caf-824e-2ccb18601c68"
      },
      "outputs": [
        {
          "output_type": "execute_result",
          "data": {
            "text/plain": [
              "array([0.        , 0.02340601, 0.17233539, 0.        , 0.0988627 ,\n",
              "       0.40416886, 0.0071513 , 0.005656  , 0.        , 0.09282158,\n",
              "       0.06169492, 0.00589878, 0.0049855 , 0.04798893, 0.06779904,\n",
              "       0.007231  , 0.        , 0.        ])"
            ]
          },
          "metadata": {},
          "execution_count": 48
        }
      ],
      "source": [
        "gb_scaled_feature_importances = gb_scaled.feature_importances_\n",
        "gb_scaled_feature_importances"
      ]
    },
    {
      "cell_type": "code",
      "source": [
        "print(classification_report(y_train, gb_scaled.predict(X_train_scaled)))"
      ],
      "metadata": {
        "colab": {
          "base_uri": "https://localhost:8080/"
        },
        "id": "UmPdnY1r0rWR",
        "outputId": "33a5689b-0afa-43c1-8fce-429d6efdab79"
      },
      "execution_count": 49,
      "outputs": [
        {
          "output_type": "stream",
          "name": "stdout",
          "text": [
            "              precision    recall  f1-score   support\n",
            "\n",
            "         bus       0.95      0.99      0.97       175\n",
            "        opel       0.99      0.95      0.97       175\n",
            "\n",
            "    accuracy                           0.97       350\n",
            "   macro avg       0.97      0.97      0.97       350\n",
            "weighted avg       0.97      0.97      0.97       350\n",
            "\n"
          ]
        }
      ]
    },
    {
      "cell_type": "code",
      "execution_count": 51,
      "metadata": {
        "id": "nlcbkwJbPpzj"
      },
      "outputs": [],
      "source": [
        "# do not change the code in the block below\n",
        "# __________start of block__________\n",
        "assert np.allclose(gb_basic_feature_importances, gb_scaled_feature_importances, atol=1e-1)\n",
        "submission_dict['gb_basic_feature_importances'] = gb_basic_feature_importances\n",
        "# __________end of block__________"
      ]
    },
    {
      "cell_type": "markdown",
      "metadata": {
        "id": "xS9DDq37Ppzj"
      },
      "source": [
        "**Question:** Why are the feature importances so similar for scaled and unscaled data?"
      ]
    },
    {
      "cell_type": "markdown",
      "metadata": {
        "id": "2_K0NJ7JPpzj"
      },
      "source": [
        "#### Using shap to explain trees ensemble solution"
      ]
    },
    {
      "cell_type": "code",
      "execution_count": 52,
      "metadata": {
        "id": "dsWmn1pOPpzj"
      },
      "outputs": [],
      "source": [
        "explainer = shap.TreeExplainer(gb_basic, X_train)\n",
        "shap_values = explainer.shap_values(X_train)"
      ]
    },
    {
      "cell_type": "code",
      "execution_count": 53,
      "metadata": {
        "id": "OXzI1uCAPpzj",
        "colab": {
          "base_uri": "https://localhost:8080/",
          "height": 877
        },
        "outputId": "30f2a6b4-f09c-44a0-d731-bac2b93b302e"
      },
      "outputs": [
        {
          "output_type": "display_data",
          "data": {
            "text/plain": [
              "<Figure size 800x870 with 2 Axes>"
            ],
            "image/png": "[encoded data removed]"
          },
          "metadata": {}
        }
      ],
      "source": [
        "shap.summary_plot(shap_values, X_train)"
      ]
    },
    {
      "cell_type": "code",
      "source": [
        "np.argmax(np.abs(shap_values).mean(0))"
      ],
      "metadata": {
        "colab": {
          "base_uri": "https://localhost:8080/"
        },
        "id": "X7uCLWE7NNoe",
        "outputId": "2db887fc-bb11-49ea-a5d6-7f7bfdb5d935"
      },
      "execution_count": 54,
      "outputs": [
        {
          "output_type": "execute_result",
          "data": {
            "text/plain": [
              "5"
            ]
          },
          "metadata": {},
          "execution_count": 54
        }
      ]
    },
    {
      "cell_type": "code",
      "source": [
        "print(np.around(shap_values[0], 2), f'\\n\\n', np.around(shap_values[1], 2))"
      ],
      "metadata": {
        "colab": {
          "base_uri": "https://localhost:8080/"
        },
        "id": "e8l6YLqx0Cx4",
        "outputId": "725d4cc3-19da-4870-8956-8997ff1897f5"
      },
      "execution_count": 55,
      "outputs": [
        {
          "output_type": "stream",
          "name": "stdout",
          "text": [
            "[ 0.   -0.01 -0.66  0.   -0.05  0.08 -0.   -0.01  0.   -0.04 -0.01 -0.01\n",
            " -0.03 -0.63  0.01 -0.06  0.    0.  ] \n",
            "\n",
            " [ 0.   -0.05  0.04  0.    0.06 -0.36  0.    0.    0.   -0.14 -0.02  0.\n",
            "  0.01 -0.63 -0.08  0.    0.    0.  ]\n"
          ]
        }
      ]
    },
    {
      "cell_type": "code",
      "source": [
        "print(np.argmax(abs(shap_values[0])), f'\\n', np.argmax(abs(shap_values[1])))"
      ],
      "metadata": {
        "colab": {
          "base_uri": "https://localhost:8080/"
        },
        "id": "4guJdfV4xjTV",
        "outputId": "9a62dc56-50d9-455f-caec-a8e1d0b62819"
      },
      "execution_count": 60,
      "outputs": [
        {
          "output_type": "stream",
          "name": "stdout",
          "text": [
            "2 \n",
            " 13\n"
          ]
        }
      ]
    },
    {
      "cell_type": "code",
      "source": [
        "gb_scaled_most_important_index = np.argmax(np.abs(shap_values).mean(0))  # average\n",
        "gb_scaled_most_important_index"
      ],
      "metadata": {
        "colab": {
          "base_uri": "https://localhost:8080/"
        },
        "id": "7-k7LoJ-NdkW",
        "outputId": "ebd0f69d-0e68-4b20-8a10-aabe1f138ec0"
      },
      "execution_count": 62,
      "outputs": [
        {
          "output_type": "execute_result",
          "data": {
            "text/plain": [
              "5"
            ]
          },
          "metadata": {},
          "execution_count": 62
        }
      ]
    },
    {
      "cell_type": "code",
      "execution_count": 63,
      "metadata": {
        "id": "jbPXkVQGPpzj",
        "colab": {
          "base_uri": "https://localhost:8080/"
        },
        "outputId": "c6dd27b6-9adf-4905-c14b-48276a06545d"
      },
      "outputs": [
        {
          "output_type": "execute_result",
          "data": {
            "text/plain": [
              "5"
            ]
          },
          "metadata": {},
          "execution_count": 63
        }
      ],
      "source": [
        "gb_scaled_most_important_index = np.argmax(abs(gb_scaled_feature_importances))\n",
        "gb_scaled_most_important_index"
      ]
    },
    {
      "cell_type": "code",
      "execution_count": 64,
      "metadata": {
        "id": "Ka6BmYGMPpzj"
      },
      "outputs": [],
      "source": [
        "# do not change the code in the block below\n",
        "# __________start of block__________\n",
        "assert isinstance(int(gb_scaled_most_important_index), int)\n",
        "submission_dict['gb_scaled_most_important_index'] = gb_scaled_most_important_index\n",
        "# __________end of block__________"
      ]
    },
    {
      "cell_type": "code",
      "execution_count": 65,
      "metadata": {
        "id": "kcFS_OoDPpzk",
        "colab": {
          "base_uri": "https://localhost:8080/"
        },
        "outputId": "49c24617-4fd3-4d25-80d5-6e0392baed1c"
      },
      "outputs": [
        {
          "output_type": "stream",
          "name": "stdout",
          "text": [
            "File saved to `submission_dict_hw.npy`\n"
          ]
        }
      ],
      "source": [
        "# do not change the code in the block below\n",
        "# __________start of block__________\n",
        "np.save('submission_dict_hw08.npy', submission_dict, allow_pickle=True)\n",
        "print('File saved to `submission_dict_hw.npy`')\n",
        "# __________end of block__________"
      ]
    },
    {
      "cell_type": "markdown",
      "metadata": {
        "id": "b2hGJXHFPpzk"
      },
      "source": [
        "Great job! Please, submit your solution to the grading system! Please, note, you need to submit both `submission_dict_hw.npy` and `get_coef_from_shap_values` function code."
      ]
    },
    {
      "cell_type": "code",
      "source": [
        "submission = np.load('submission_dict_hw08.npy', allow_pickle=True)\n",
        "print(submission)"
      ],
      "metadata": {
        "colab": {
          "base_uri": "https://localhost:8080/"
        },
        "id": "YDgOYkUTKJM3",
        "outputId": "6f011add-cba9-4554-968a-cb71df627f38"
      },
      "execution_count": 66,
      "outputs": [
        {
          "output_type": "stream",
          "name": "stdout",
          "text": [
            "{'lr_basic_coef': array([[-8.34731850e-02,  3.32128516e-01,  2.54821760e-01,\n",
            "         7.36569242e-01, -2.21721658e+00,  4.85824418e-02,\n",
            "         4.72753405e-01,  1.54485519e+00, -2.12906912e-03,\n",
            "        -5.93055933e-02, -2.95874916e-01, -6.52029393e-02,\n",
            "        -7.86035108e-02,  2.19286001e-01,  2.37766283e-01,\n",
            "        -1.27482645e-01, -1.33672086e+00,  9.60484248e-01]]), 'lr_scaled_coef': array([[-0.0308141 ,  0.04038916,  1.76464104,  3.35720044, -2.88170181,\n",
            "         0.5835645 ,  0.07879649,  1.52222547,  0.34803312, -0.18384689,\n",
            "        -1.41802344, -0.13678338, -0.87872259, -1.42396471,  0.53480476,\n",
            "        -0.01473084, -2.93765859,  1.65556713]]), 'lr_scaled_most_important_index': 3, 'gb_basic_feature_importances': array([0.        , 0.02340601, 0.17233539, 0.        , 0.0988627 ,\n",
            "       0.40416886, 0.0071513 , 0.005656  , 0.        , 0.09282158,\n",
            "       0.06169492, 0.00589878, 0.0049855 , 0.04798893, 0.06779904,\n",
            "       0.007231  , 0.        , 0.        ]), 'gb_scaled_most_important_index': 5}\n"
          ]
        }
      ]
    }
  ],
  "metadata": {
    "celltoolbar": "Create Assignment",
    "kernelspec": {
      "display_name": "Py3 Research",
      "language": "python",
      "name": "py3_research"
    },
    "language_info": {
      "codemirror_mode": {
        "name": "ipython",
        "version": 3
      },
      "file_extension": ".py",
      "mimetype": "text/x-python",
      "name": "python",
      "nbconvert_exporter": "python",
      "pygments_lexer": "ipython3",
      "version": "3.9.16"
    },
    "toc": {
      "base_numbering": 1,
      "nav_menu": {},
      "number_sections": false,
      "sideBar": true,
      "skip_h1_title": false,
      "title_cell": "Table of Contents",
      "title_sidebar": "Contents",
      "toc_cell": false,
      "toc_position": {},
      "toc_section_display": true,
      "toc_window_display": false
    },
    "colab": {
      "provenance": [],
      "toc_visible": true,
      "include_colab_link": true
    }
  },
  "nbformat": 4,
  "nbformat_minor": 0
}